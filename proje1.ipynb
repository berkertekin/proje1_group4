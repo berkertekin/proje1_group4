{
  "nbformat": 4,
  "nbformat_minor": 0,
  "metadata": {
    "colab": {
      "name": "proje1.ipynb",
      "provenance": [],
      "collapsed_sections": [],
      "authorship_tag": "ABX9TyOFnNr3g+scEOCm/s0Rz3R1"
    },
    "kernelspec": {
      "name": "python3",
      "display_name": "Python 3"
    },
    "language_info": {
      "name": "python"
    }
  },
  "cells": [
    {
      "cell_type": "markdown",
      "source": [
        "●\tKendinize bir ders belirleyiniz. (Matematik,Fizik, Lineer Cebir vb.)\n",
        "\n",
        "●\tNot aralığınızı oluşturunuz (100-80 ⇒ A, 79-70 ⇒ B vb.)\n",
        "\n",
        "●\tÖğrenci Bilgilerini (Ad, Soyad, Okul No, sınav puanı) girebileceğiniz ve bu bilgilerin tutulabileceği bir sistem oluşturunuz.\n",
        "\n",
        "●\tGirilen bilgilerden yola çıkarak öğrencinin dersi geçip geçmediğini göstermesi gerekmektedir.\n",
        "\n",
        "●\tÖğrenci dersi geçti ise öğrencinin bilgilerinin tutulduğu alana “Geçti” yazısı, öğrenci dersi geçemedi ise “kaldı” yazısını göstermesi gerekmektedir.\n",
        "\n",
        "●\tNotları girilen öğrencilerden dersi geçenleri ve geçmeyenleri gösteren bir Dataframe oluşturunuz. \n",
        "\n",
        "●\tOluşturulan Dataframe’i Excel tablosuna dönüştürünüz.\n"
      ],
      "metadata": {
        "id": "7d9DMtN7BW_Z"
      }
    },
    {
      "cell_type": "code",
      "source": [
        "#import pandas as pd\n"
      ],
      "metadata": {
        "id": "Qid6emMuLCfo"
      },
      "execution_count": null,
      "outputs": []
    },
    {
      "cell_type": "code",
      "source": [
        "lecture = 'Math'\n",
        "print('Ders:',lecture)"
      ],
      "metadata": {
        "colab": {
          "base_uri": "https://localhost:8080/"
        },
        "id": "1fOOhZWI-uLa",
        "outputId": "9e209270-d82c-4fd3-b6d4-d96ff6c829a4"
      },
      "execution_count": 62,
      "outputs": [
        {
          "output_type": "stream",
          "name": "stdout",
          "text": [
            "Ders: Math\n"
          ]
        }
      ]
    },
    {
      "cell_type": "code",
      "source": [
        "score = int(input('Lütfen 0-100 arası tam sayı değeri giriniz: '))\n",
        "grade = str()\n",
        "success = bool(score>=50)\n",
        "\n",
        "while 0 <= score <= 100:\n",
        "\n",
        "  if 80<=score<=100:\n",
        "    grade = 'A' #and success = True\n",
        "  elif 70<=score<80:\n",
        "    grade = 'B' #and success = True\n",
        "  elif 60<=score<70:\n",
        "    grade = 'C' #and success = True\n",
        "  elif 50<=score<60:\n",
        "    grade = 'D' #and success = True\n",
        "  else:# 0<=score<50:\n",
        "    grade = 'F' #and success = False\n",
        "\n",
        "  print('Notunuz ',grade)\n",
        "  \n",
        "  if success == True:\n",
        "    print('BAŞARILI')\n",
        "  else:\n",
        "    print('BAŞARISIZ')\n",
        "\n",
        "else:\n",
        "  print('Geçersiz bir değer girdiniz!')\n",
        "#class success:\n",
        "#  def __bool__(score >= 50):\n",
        "#    return True\n"
      ],
      "metadata": {
        "colab": {
          "base_uri": "https://localhost:8080/"
        },
        "id": "p6ogLduQCBwy",
        "outputId": "75e6afa2-03fc-477c-d0d6-4cf0d1299994"
      },
      "execution_count": 71,
      "outputs": [
        {
          "output_type": "stream",
          "name": "stdout",
          "text": [
            "Lütfen 0-100 arası tam sayı değeri giriniz: 102\n",
            "Geçersiz bir değer girdiniz!\n"
          ]
        }
      ]
    },
    {
      "cell_type": "code",
      "source": [
        "class math\n",
        "def __init__(ogrenci, adi, soyadi, no, score)\n",
        "  ogrenci.adi = adi\n",
        "  ogrenci.soyadi = soyadi\n",
        "  ogrenci.no = no\n",
        "  ogrenci.score = score"
      ],
      "metadata": {
        "id": "byYUVCFxNG9t"
      },
      "execution_count": null,
      "outputs": []
    }
  ]
}