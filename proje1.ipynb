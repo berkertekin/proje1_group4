{
  "nbformat": 4,
  "nbformat_minor": 0,
  "metadata": {
    "colab": {
      "name": "proje1.ipynb",
      "provenance": [],
      "collapsed_sections": [],
      "toc_visible": true,
      "authorship_tag": "ABX9TyN5v7E0tA3OWUEpZP9NpVaL"
    },
    "kernelspec": {
      "name": "python3",
      "display_name": "Python 3"
    },
    "language_info": {
      "name": "python"
    }
  },
  "cells": [
    {
      "cell_type": "markdown",
      "source": [
        "●\tKendinize bir ders belirleyiniz. (Matematik,Fizik, Lineer Cebir vb.)\n",
        "\n",
        "●\tNot aralığınızı oluşturunuz (100-80 ⇒ A, 79-70 ⇒ B vb.)\n",
        "\n",
        "●\tÖğrenci Bilgilerini (Ad, Soyad, Okul No, sınav puanı) girebileceğiniz ve bu bilgilerin tutulabileceği bir sistem oluşturunuz.\n",
        "\n",
        "●\tGirilen bilgilerden yola çıkarak öğrencinin dersi geçip geçmediğini göstermesi gerekmektedir.\n",
        "\n",
        "●\tÖğrenci dersi geçti ise öğrencinin bilgilerinin tutulduğu alana “Geçti” yazısı, öğrenci dersi geçemedi ise “kaldı” yazısını göstermesi gerekmektedir.\n",
        "\n",
        "●\tNotları girilen öğrencilerden dersi geçenleri ve geçmeyenleri gösteren bir Dataframe oluşturunuz. \n",
        "\n",
        "●\tOluşturulan Dataframe’i Excel tablosuna dönüştürünüz.\n"
      ],
      "metadata": {
        "id": "7d9DMtN7BW_Z"
      }
    },
    {
      "cell_type": "code",
      "source": [
        "#import pandas as pd\n"
      ],
      "metadata": {
        "id": "Qid6emMuLCfo"
      },
      "execution_count": null,
      "outputs": []
    },
    {
      "cell_type": "code",
      "source": [
        "score = int(input('Lütfen 0-100 arası tam sayı değeri giriniz: '))\n",
        "grade = str()\n",
        "\n",
        "if 80<=score<=100:\n",
        "  grade = 'A'\n",
        "elif 70<=score<80:\n",
        "  grade = 'B'\n",
        "elif 60<=score<70:\n",
        "  grade = 'C'\n",
        "elif 50<=score<60:\n",
        "  grade = 'D'\n",
        "elif 0<=score<50:\n",
        "  grade = 'F'\n",
        "else:\n",
        "  raise Exception(\"Geçersiz bir değer girdiniz.\")\n",
        "print('Notunuz ',grade)"
      ],
      "metadata": {
        "colab": {
          "base_uri": "https://localhost:8080/"
        },
        "id": "p6ogLduQCBwy",
        "outputId": "ff881f25-ab8a-40b3-a42e-55e446c9e89d"
      },
      "execution_count": 27,
      "outputs": [
        {
          "output_type": "stream",
          "name": "stdout",
          "text": [
            "Lütfen 0-100 arası tam sayı değeri giriniz: 78\n",
            "Notunuz  B\n"
          ]
        }
      ]
    },
    {
      "cell_type": "code",
      "source": [
        ""
      ],
      "metadata": {
        "id": "GmNhRZpwRDP-"
      },
      "execution_count": null,
      "outputs": []
    },
    {
      "cell_type": "code",
      "source": [
        "class math\n",
        "def __init__(ogrenci, adi, soyadi, no, score)\n",
        "  ogrenci.adi = adi\n",
        "  ogrenci.soyadi = soyadi\n",
        "  ogrenci.no = no\n",
        "  ogrenci.score = score"
      ],
      "metadata": {
        "id": "byYUVCFxNG9t"
      },
      "execution_count": null,
      "outputs": []
    },
    {
      "cell_type": "code",
      "source": [
        "'''\n",
        "class Car:                         \n",
        "   def __init__(self, name, type, engine, hp): \n",
        "     self.name = name                           \n",
        "     self.type = type\n",
        "     self.engine = engine\n",
        "     self.hp = hp\n",
        "     self.tire_count = 4\n",
        "car_1 = Car(\"Ferrari\", \"Sport Car\", \"Gasoline\" ,4000 )                       \n",
        "car_2 = Car(\"Tofaş\", \"Basic Car\", \"LPG\", 1600)\n",
        "print(car_1.name)\n",
        "print(car_1.type)\n",
        "print(car_1.engine)\n",
        "print(car_1.hp)\n",
        "print(car_1.tire_count)\n",
        "print(car_2.name)\n",
        "print(car_2.type)\n",
        "print(car_2.engine)\n",
        "print(car_2.hp)\n",
        "print(car_2.tire_count)\n",
        "'''"
      ],
      "metadata": {
        "colab": {
          "base_uri": "https://localhost:8080/"
        },
        "id": "BgSMoRV6LBSw",
        "outputId": "48c243c6-62a1-45ca-93b8-b2e0e9d75fd9"
      },
      "execution_count": 6,
      "outputs": [
        {
          "output_type": "stream",
          "name": "stdout",
          "text": [
            "Ferrari\n",
            "Sport Car\n",
            "Gasoline\n",
            "4000\n",
            "4\n",
            "Tofaş\n",
            "Basic Car\n",
            "LPG\n",
            "1600\n",
            "4\n"
          ]
        }
      ]
    }
  ]
}