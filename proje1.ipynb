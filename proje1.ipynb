{
  "nbformat": 4,
  "nbformat_minor": 0,
  "metadata": {
    "colab": {
      "name": "proje1.ipynb",
      "provenance": [],
      "collapsed_sections": [],
      "toc_visible": true,
      "authorship_tag": "ABX9TyOVw0857MCfOizmE5YM6yrB"
    },
    "kernelspec": {
      "name": "python3",
      "display_name": "Python 3"
    },
    "language_info": {
      "name": "python"
    }
  },
  "cells": [
    {
      "cell_type": "markdown",
      "source": [
        "●\tKendinize bir ders belirleyiniz. (Matematik,Fizik, Lineer Cebir vb.)\n",
        "\n",
        "●\tNot aralığınızı oluşturunuz (100-80 ⇒ A, 79-70 ⇒ B vb.)\n",
        "\n",
        "●\tÖğrenci Bilgilerini (Ad, Soyad, Okul No, sınav puanı) girebileceğiniz ve bu bilgilerin tutulabileceği bir sistem oluşturunuz.\n",
        "\n",
        "●\tGirilen bilgilerden yola çıkarak öğrencinin dersi geçip geçmediğini göstermesi gerekmektedir.\n",
        "\n",
        "●\tÖğrenci dersi geçti ise öğrencinin bilgilerinin tutulduğu alana “Geçti” yazısı, öğrenci dersi geçemedi ise “kaldı” yazısını göstermesi gerekmektedir.\n",
        "\n",
        "●\tNotları girilen öğrencilerden dersi geçenleri ve geçmeyenleri gösteren bir Dataframe oluşturunuz. \n",
        "\n",
        "●\tOluşturulan Dataframe’i Excel tablosuna dönüştürünüz.\n"
      ],
      "metadata": {
        "id": "7d9DMtN7BW_Z"
      }
    },
    {
      "cell_type": "code",
      "source": [
        "#import pandas as pd\n"
      ],
      "metadata": {
        "id": "Qid6emMuLCfo"
      },
      "execution_count": null,
      "outputs": []
    },
    {
      "cell_type": "code",
      "source": [
        "score = int(input('Lütfen 0-100 arası tam sayı değeri giriniz: '))\n",
        "grade = str()\n",
        "success = bool(score>=50)\n",
        "\n",
        "if 80<=score<=100:\n",
        "  grade = 'A' #and success = True\n",
        "elif 70<=score<80:\n",
        "  grade = 'B' #and success = True\n",
        "elif 60<=score<70:\n",
        "  grade = 'C' #and success = True\n",
        "elif 50<=score<60:\n",
        "  grade = 'D' #and success = True\n",
        "elif 0<=score<50:\n",
        "  grade = 'F' #and success = False\n",
        "else:\n",
        "  raise Exception('Geçersiz bir değer girdiniz')\n",
        "\n",
        "\n",
        "print('Notunuz ',grade)\n",
        "\n",
        "#class success:\n",
        "#  def __bool__(score >= 50):\n",
        "#    return True\n",
        "\n",
        "if success == True:\n",
        "  print('BAŞARILI')\n",
        "else:\n",
        "  print('BAŞARISIZ')"
      ],
      "metadata": {
        "colab": {
          "base_uri": "https://localhost:8080/",
          "height": 252
        },
        "id": "p6ogLduQCBwy",
        "outputId": "9a41a30f-5bec-4ad3-b2ee-a37dd4c86aa0"
      },
      "execution_count": 54,
      "outputs": [
        {
          "name": "stdout",
          "output_type": "stream",
          "text": [
            "Lütfen 0-100 arası tam sayı değeri giriniz: 102\n"
          ]
        },
        {
          "output_type": "error",
          "ename": "Exception",
          "evalue": "ignored",
          "traceback": [
            "\u001b[0;31m---------------------------------------------------------------------------\u001b[0m",
            "\u001b[0;31mException\u001b[0m                                 Traceback (most recent call last)",
            "\u001b[0;32m<ipython-input-54-7d90642b63e7>\u001b[0m in \u001b[0;36m<module>\u001b[0;34m()\u001b[0m\n\u001b[1;32m     14\u001b[0m   \u001b[0mgrade\u001b[0m \u001b[0;34m=\u001b[0m \u001b[0;34m'F'\u001b[0m \u001b[0;31m#and success = False\u001b[0m\u001b[0;34m\u001b[0m\u001b[0;34m\u001b[0m\u001b[0m\n\u001b[1;32m     15\u001b[0m \u001b[0;32melse\u001b[0m\u001b[0;34m:\u001b[0m\u001b[0;34m\u001b[0m\u001b[0;34m\u001b[0m\u001b[0m\n\u001b[0;32m---> 16\u001b[0;31m   \u001b[0;32mraise\u001b[0m \u001b[0mException\u001b[0m\u001b[0;34m(\u001b[0m\u001b[0;34m'Geçersiz bir değer girdiniz'\u001b[0m\u001b[0;34m)\u001b[0m\u001b[0;34m\u001b[0m\u001b[0;34m\u001b[0m\u001b[0m\n\u001b[0m\u001b[1;32m     17\u001b[0m \u001b[0;34m\u001b[0m\u001b[0m\n\u001b[1;32m     18\u001b[0m \u001b[0;34m\u001b[0m\u001b[0m\n",
            "\u001b[0;31mException\u001b[0m: Geçersiz bir değer girdiniz"
          ]
        }
      ]
    },
    {
      "cell_type": "code",
      "source": [
        ""
      ],
      "metadata": {
        "id": "GmNhRZpwRDP-"
      },
      "execution_count": null,
      "outputs": []
    },
    {
      "cell_type": "code",
      "source": [
        "class math\n",
        "def __init__(ogrenci, adi, soyadi, no, score)\n",
        "  ogrenci.adi = adi\n",
        "  ogrenci.soyadi = soyadi\n",
        "  ogrenci.no = no\n",
        "  ogrenci.score = score"
      ],
      "metadata": {
        "id": "byYUVCFxNG9t"
      },
      "execution_count": null,
      "outputs": []
    }
  ]
}