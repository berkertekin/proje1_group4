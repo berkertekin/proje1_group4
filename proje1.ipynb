{
  "nbformat": 4,
  "nbformat_minor": 0,
  "metadata": {
    "colab": {
      "name": "proje1.ipynb",
      "provenance": [],
      "collapsed_sections": [],
      "toc_visible": true,
      "authorship_tag": "ABX9TyO1xr60CGe4GJofFYeQe63L",
      "include_colab_link": true
    },
    "kernelspec": {
      "name": "python3",
      "display_name": "Python 3"
    },
    "language_info": {
      "name": "python"
    }
  },
  "cells": [
    {
      "cell_type": "markdown",
      "metadata": {
        "id": "view-in-github",
        "colab_type": "text"
      },
      "source": [
        "<a href=\"https://colab.research.google.com/github/berkertekin/proje1_group4/blob/main/proje1.ipynb\" target=\"_parent\"><img src=\"https://colab.research.google.com/assets/colab-badge.svg\" alt=\"Open In Colab\"/></a>"
      ]
    },
    {
      "cell_type": "markdown",
      "source": [
        "●\tKendinize bir ders belirleyiniz. (Matematik,Fizik, Lineer Cebir vb.)\n",
        "\n",
        "●\tNot aralığınızı oluşturunuz (100-80 ⇒ A, 79-70 ⇒ B vb.)\n",
        "\n",
        "●\tÖğrenci Bilgilerini (Ad, Soyad, Okul No, sınav puanı) girebileceğiniz ve bu bilgilerin tutulabileceği bir sistem oluşturunuz.\n",
        "\n",
        "●\tGirilen bilgilerden yola çıkarak öğrencinin dersi geçip geçmediğini göstermesi gerekmektedir.\n",
        "\n",
        "●\tÖğrenci dersi geçti ise öğrencinin bilgilerinin tutulduğu alana “Geçti” yazısı, öğrenci dersi geçemedi ise “kaldı” yazısını göstermesi gerekmektedir.\n",
        "\n",
        "●\tNotları girilen öğrencilerden dersi geçenleri ve geçmeyenleri gösteren bir Dataframe oluşturunuz. \n",
        "\n",
        "●\tOluşturulan Dataframe’i Excel tablosuna dönüştürünüz.\n"
      ],
      "metadata": {
        "id": "7d9DMtN7BW_Z"
      }
    },
    {
      "cell_type": "code",
      "source": [
        "print('merhabaaa')"
      ],
      "metadata": {
        "colab": {
          "base_uri": "https://localhost:8080/"
        },
        "id": "p6ogLduQCBwy",
        "outputId": "2601e85c-c6a6-4958-ab3b-b3bc1a6922b6"
      },
      "execution_count": 2,
      "outputs": [
        {
          "output_type": "stream",
          "name": "stdout",
          "text": [
            "merhabaaa\n"
          ]
        }
      ]
    }
  ]
}